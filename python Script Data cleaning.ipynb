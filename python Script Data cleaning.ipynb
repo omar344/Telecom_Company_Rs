{
 "cells": [
  {
   "cell_type": "code",
   "execution_count": null,
   "id": "9871d94e-23ff-474e-8072-90ad948cdf65",
   "metadata": {},
   "outputs": [],
   "source": [
    "#1. Importing Libraries"
   ]
  },
  {
   "cell_type": "code",
   "execution_count": null,
   "id": "9342fcbd-a796-4714-9243-62b7ff86fe5a",
   "metadata": {},
   "outputs": [],
   "source": [
    "import pandas as pd"
   ]
  },
  {
   "cell_type": "code",
   "execution_count": null,
   "id": "2d0d9e7d-b8cd-4ff0-83cb-f259ac22c1b5",
   "metadata": {},
   "outputs": [],
   "source": [
    "#2. Setting the File Path\n",
    "#3. Reading the Excel File\n"
   ]
  },
  {
   "cell_type": "code",
   "execution_count": 5,
   "id": "9ff2406c-5f3e-4925-bad5-e15ff4caad3e",
   "metadata": {},
   "outputs": [],
   "source": [
    "file_path = \"C:/datasets/cleaned_output_file.xlsx\"  # Replace with your file path\n",
    "xls = pd.ExcelFile(file_path)"
   ]
  },
  {
   "cell_type": "code",
   "execution_count": null,
   "id": "fe9af749-ac5c-432a-bba0-53bd6b6eeee6",
   "metadata": {},
   "outputs": [],
   "source": [
    "#4. Initializing a Dictionary\n"
   ]
  },
  {
   "cell_type": "code",
   "execution_count": null,
   "id": "84b0b143-adaa-44c8-bdd7-4868424cf145",
   "metadata": {},
   "outputs": [],
   "source": [
    "\n",
    "cleaned_sheets = {}\n"
   ]
  },
  {
   "cell_type": "code",
   "execution_count": null,
   "id": "6c474afc-7ad4-4634-b117-53b7609b79e7",
   "metadata": {},
   "outputs": [],
   "source": [
    "#5. Looping Through Each Sheet\n",
    "#6. Cleaning the Data\n",
    "#7. Storing the Cleaned Data\n"
   ]
  },
  {
   "cell_type": "code",
   "execution_count": null,
   "id": "594ddf44-7cd9-47cc-ba59-c011e5a8c702",
   "metadata": {},
   "outputs": [],
   "source": [
    "\n",
    "for sheet_name in xls.sheet_names:\n",
    "    df = pd.read_excel(xls, sheet_name=sheet_name)\n",
    "    df_cleaned = df.dropna()\n",
    "    df_cleaned = df_cleaned.drop_duplicates()\n",
    "    cleaned_sheets[sheet_name] = df_cleaned\n"
   ]
  },
  {
   "cell_type": "code",
   "execution_count": null,
   "id": "dc008279-55a7-4b96-ab38-fb5c504e2197",
   "metadata": {},
   "outputs": [],
   "source": [
    "#8. Defining the Output File Path\n",
    "#9. Writing Cleaned Data to a New Excel File\n"
   ]
  },
  {
   "cell_type": "code",
   "execution_count": null,
   "id": "26abf7c6-959a-486a-b8d0-8280228392ac",
   "metadata": {},
   "outputs": [],
   "source": [
    "\n",
    "output_file_path = \"C:/datasets/cleaned_excel_file.xlsx\"\n",
    "with pd.ExcelWriter(output_file_path, engine='openpyxl') as writer:\n",
    "    for sheet_name, df_cleaned in cleaned_sheets.items():\n",
    "        df_cleaned.to_excel(writer, sheet_name=sheet_name, index=False)\n",
    "\n"
   ]
  },
  {
   "cell_type": "code",
   "execution_count": null,
   "id": "6608bd11-c96f-4bd5-b759-7deb91000263",
   "metadata": {},
   "outputs": [],
   "source": [
    "#10. Confirmation Message\n"
   ]
  },
  {
   "cell_type": "code",
   "execution_count": null,
   "id": "af4ab310-cf75-48d2-8983-4eadd18ac2b4",
   "metadata": {},
   "outputs": [],
   "source": [
    "print(f\"Data cleaned and saved to {output_file_path}\")\n"
   ]
  }
 ],
 "metadata": {
  "kernelspec": {
   "display_name": "Python 3 (ipykernel)",
   "language": "python",
   "name": "python3"
  },
  "language_info": {
   "codemirror_mode": {
    "name": "ipython",
    "version": 3
   },
   "file_extension": ".py",
   "mimetype": "text/x-python",
   "name": "python",
   "nbconvert_exporter": "python",
   "pygments_lexer": "ipython3",
   "version": "3.12.4"
  }
 },
 "nbformat": 4,
 "nbformat_minor": 5
}
